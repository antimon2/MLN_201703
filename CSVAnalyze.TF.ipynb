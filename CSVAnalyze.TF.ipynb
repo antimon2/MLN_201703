{
 "cells": [
  {
   "cell_type": "code",
   "execution_count": null,
   "metadata": {
    "ExecuteTime": {
     "end_time": "2017-03-10T17:16:11.194567",
     "start_time": "2017-03-10T17:16:09.772540"
    },
    "collapsed": true
   },
   "outputs": [],
   "source": [
    "import tensorflow as tf\n",
    "import numpy as np"
   ]
  },
  {
   "cell_type": "markdown",
   "metadata": {},
   "source": [
    "## CSV 前処理"
   ]
  },
  {
   "cell_type": "code",
   "execution_count": null,
   "metadata": {
    "ExecuteTime": {
     "end_time": "2017-03-10T17:16:11.206045",
     "start_time": "2017-03-10T17:16:11.196313"
    },
    "collapsed": true
   },
   "outputs": [],
   "source": [
    "csv_filename = \"log_20161110.csv\""
   ]
  },
  {
   "cell_type": "markdown",
   "metadata": {},
   "source": [
    "+ csv ファイルは、列ヘッダなし・列数8列・全5902行\n",
    "+ 各列は以下の通り：\n",
    "    + ページ（パス、文字列）\n",
    "    + ページビュー数（整数）\n",
    "    + ページ別訪問数（整数）\n",
    "    + 平均ページ滞在時間（整数）\n",
    "    + 閲覧開始数（整数）\n",
    "    + 直帰率（実数）\n",
    "    + 離脱率（実数）\n",
    "    + コンテンツサイズ（整数）"
   ]
  },
  {
   "cell_type": "code",
   "execution_count": null,
   "metadata": {
    "ExecuteTime": {
     "end_time": "2017-03-10T17:16:11.215760",
     "start_time": "2017-03-10T17:16:11.207938"
    },
    "collapsed": true
   },
   "outputs": [],
   "source": [
    "csv_lines = open(csv_filename, \"r\").readlines()"
   ]
  },
  {
   "cell_type": "code",
   "execution_count": null,
   "metadata": {
    "ExecuteTime": {
     "end_time": "2017-03-10T17:16:11.248076",
     "start_time": "2017-03-10T17:16:11.217864"
    },
    "collapsed": false
   },
   "outputs": [],
   "source": [
    "num_lines = len(csv_lines)\n",
    "num_lines"
   ]
  },
  {
   "cell_type": "code",
   "execution_count": null,
   "metadata": {
    "ExecuteTime": {
     "end_time": "2017-03-10T17:16:11.261223",
     "start_time": "2017-03-10T17:16:11.251055"
    },
    "collapsed": false
   },
   "outputs": [],
   "source": [
    "csv_lines[:6]"
   ]
  },
  {
   "cell_type": "code",
   "execution_count": null,
   "metadata": {
    "ExecuteTime": {
     "end_time": "2017-03-10T17:16:11.270313",
     "start_time": "2017-03-10T17:16:11.263953"
    },
    "collapsed": false
   },
   "outputs": [],
   "source": [
    "train_idxs = np.random.choice(range(num_lines), num_lines*5//6, replace=False)"
   ]
  },
  {
   "cell_type": "code",
   "execution_count": null,
   "metadata": {
    "ExecuteTime": {
     "end_time": "2017-03-10T17:16:11.293907",
     "start_time": "2017-03-10T17:16:11.282640"
    },
    "collapsed": false
   },
   "outputs": [],
   "source": [
    "train_data = np.array(csv_lines)[train_idxs]"
   ]
  },
  {
   "cell_type": "code",
   "execution_count": null,
   "metadata": {
    "ExecuteTime": {
     "end_time": "2017-03-10T17:16:11.303808",
     "start_time": "2017-03-10T17:16:11.296740"
    },
    "collapsed": false
   },
   "outputs": [],
   "source": [
    "train_data"
   ]
  },
  {
   "cell_type": "code",
   "execution_count": null,
   "metadata": {
    "ExecuteTime": {
     "end_time": "2017-03-10T17:16:11.324381",
     "start_time": "2017-03-10T17:16:11.307952"
    },
    "collapsed": false
   },
   "outputs": [],
   "source": [
    "csv_data = np.array(csv_lines)\n",
    "np.random.shuffle(csv_data)\n",
    "csv_data[:6]"
   ]
  },
  {
   "cell_type": "code",
   "execution_count": null,
   "metadata": {
    "ExecuteTime": {
     "end_time": "2017-03-10T17:16:11.335797",
     "start_time": "2017-03-10T17:16:11.327548"
    },
    "collapsed": false
   },
   "outputs": [],
   "source": [
    "train_num = len(csv_lines) * 5 // 6\n",
    "train_data = csv_data[:train_num]\n",
    "test_data = csv_data[train_num:]\n",
    "\n",
    "(len(train_data), len(test_data))"
   ]
  },
  {
   "cell_type": "code",
   "execution_count": null,
   "metadata": {
    "ExecuteTime": {
     "end_time": "2017-03-10T17:16:11.358747",
     "start_time": "2017-03-10T17:16:11.340077"
    },
    "collapsed": true
   },
   "outputs": [],
   "source": [
    "with open(\"train.csv\", \"w\") as f:\n",
    "    for line in train_data:\n",
    "        f.write(line)"
   ]
  },
  {
   "cell_type": "code",
   "execution_count": null,
   "metadata": {
    "ExecuteTime": {
     "end_time": "2017-03-10T17:16:11.369104",
     "start_time": "2017-03-10T17:16:11.361574"
    },
    "collapsed": true
   },
   "outputs": [],
   "source": [
    "with open(\"test.csv\", \"w\") as f:\n",
    "    for line in test_data:\n",
    "        f.write(line)"
   ]
  },
  {
   "cell_type": "markdown",
   "metadata": {},
   "source": [
    "## グラフ構築"
   ]
  },
  {
   "cell_type": "code",
   "execution_count": null,
   "metadata": {
    "ExecuteTime": {
     "end_time": "2017-03-10T17:16:11.386595",
     "start_time": "2017-03-10T17:16:11.374208"
    },
    "collapsed": true
   },
   "outputs": [],
   "source": [
    "denoms = {\n",
    "    \"pv\": 4096,\n",
    "    \"visits\": 4096,\n",
    "    \"duration\": 128,\n",
    "    \"entrances\": 1024,\n",
    "    \"bounce_rate\": 1,\n",
    "    # \"exit_rate\": 1,\n",
    "    \"contents_size\": 4096\n",
    "}"
   ]
  },
  {
   "cell_type": "code",
   "execution_count": null,
   "metadata": {
    "ExecuteTime": {
     "end_time": "2017-03-10T17:16:11.407783",
     "start_time": "2017-03-10T17:16:11.394033"
    },
    "collapsed": true
   },
   "outputs": [],
   "source": [
    "tf_stack = tf.stack if hasattr(tf, \"stack\") else tf.pack\n",
    "# ↑ TensorFlow 0.1x/1.0 の差分吸収"
   ]
  },
  {
   "cell_type": "code",
   "execution_count": null,
   "metadata": {
    "ExecuteTime": {
     "end_time": "2017-03-10T17:16:11.452993",
     "start_time": "2017-03-10T17:16:11.411968"
    },
    "collapsed": true
   },
   "outputs": [],
   "source": [
    "def read_data(filename, batch_size=128, denoms=denoms):\n",
    "    filename_queue = tf.train.string_input_producer([filename])\n",
    "\n",
    "    # TextLineReader 生成（1行ずつ読み込む Reader）\n",
    "    reader = tf.TextLineReader()\n",
    "    key, value = reader.read(filename_queue)\n",
    "\n",
    "    # CSVデコード\n",
    "    # ※ 列は8列、文字列、整数、整数、整数、整数、実数、実数、整数。だが処理の都合上、\n",
    "    # 　 最初以外は実数として扱う↓）\n",
    "    page, pv, visits, duration, entrances, bounce_rate, exit_rate, contents_size = (\n",
    "        tf.decode_csv(value, [['path'], [1.0], [1.0], [1.0], [1.0], [1.0], [1.0], [1.0]]))\n",
    "    # x = tf_stack([pv, visits, duration, entrances, bounce_rate, contents_size])\n",
    "    x = tf_stack([\n",
    "        pv / denoms[\"pv\"],\n",
    "        visits / denoms[\"visits\"],\n",
    "        duration / denoms[\"duration\"],\n",
    "        entrances / denoms[\"entrances\"],\n",
    "        bounce_rate / denoms[\"bounce_rate\"],\n",
    "        contents_size / denoms[\"contents_size\"]])\n",
    "    # threshold 0.4 \n",
    "    y = tf.floor(exit_rate + 0.6)\n",
    "\n",
    "    x_, y_ = tf.train.batch(\n",
    "          [x, y], batch_size=batch_size)\n",
    "    return x_, tf.reshape(y_, [-1])"
   ]
  },
  {
   "cell_type": "code",
   "execution_count": null,
   "metadata": {
    "ExecuteTime": {
     "end_time": "2017-03-10T17:16:11.780285",
     "start_time": "2017-03-10T17:16:11.455679"
    },
    "collapsed": false
   },
   "outputs": [],
   "source": [
    "x_train, y_train = read_data(\"train.csv\")"
   ]
  },
  {
   "cell_type": "code",
   "execution_count": null,
   "metadata": {
    "ExecuteTime": {
     "end_time": "2017-03-10T17:16:11.987016",
     "start_time": "2017-03-10T17:16:11.813927"
    },
    "collapsed": false
   },
   "outputs": [],
   "source": [
    "x_test, y_test = read_data(\"test.csv\", batch_size=len(test_data))"
   ]
  },
  {
   "cell_type": "code",
   "execution_count": null,
   "metadata": {
    "ExecuteTime": {
     "end_time": "2017-03-10T17:16:12.109547",
     "start_time": "2017-03-10T17:16:12.002902"
    },
    "collapsed": true
   },
   "outputs": [],
   "source": [
    "W1 = tf.Variable(tf.truncated_normal([6, 40], stddev=np.sqrt(2.0/6)))\n",
    "b1 = tf.Variable(tf.zeros([40]))\n",
    "W2 = tf.Variable(tf.truncated_normal([40, 6], stddev=np.sqrt(2.0/40)))\n",
    "b2 = tf.Variable(tf.zeros([6]))\n",
    "W3 = tf.Variable(tf.truncated_normal([6, 1], stddev=np.sqrt(2.0/5)))\n",
    "b3 = tf.Variable(tf.zeros([1]))"
   ]
  },
  {
   "cell_type": "code",
   "execution_count": null,
   "metadata": {
    "ExecuteTime": {
     "end_time": "2017-03-10T17:16:12.140817",
     "start_time": "2017-03-10T17:16:12.119802"
    },
    "collapsed": true
   },
   "outputs": [],
   "source": [
    "def inference(x, W1=W1, b1=b1, W2=W2, b2=b2, W3=W3, b3=b3):\n",
    "    a1 = tf.matmul(x, W1) + b1\n",
    "    z1 = tf.nn.relu(a1)\n",
    "    a2 = tf.matmul(z1, W2) + b2\n",
    "    z2 = tf.nn.relu(a2)\n",
    "    a3 = tf.matmul(z2, W3) + b3\n",
    "    # return tf.nn.sigmoid(tf.reshape(a3, [-1]))\n",
    "    return tf.reshape(a3, [-1])"
   ]
  },
  {
   "cell_type": "code",
   "execution_count": null,
   "metadata": {
    "ExecuteTime": {
     "end_time": "2017-03-10T17:16:12.184597",
     "start_time": "2017-03-10T17:16:12.144413"
    },
    "collapsed": true
   },
   "outputs": [],
   "source": [
    "y = inference(x_train)"
   ]
  },
  {
   "cell_type": "code",
   "execution_count": null,
   "metadata": {
    "ExecuteTime": {
     "end_time": "2017-03-10T17:16:12.217545",
     "start_time": "2017-03-10T17:16:12.187400"
    },
    "collapsed": true
   },
   "outputs": [],
   "source": [
    "def tf_nn_sigmoid_cross_entropy_with_logits(logits, labels, name=None):\n",
    "    if hasattr(tf, \"pack\"):\n",
    "        return tf.nn.sigmoid_cross_entropy_with_logits(logits, labels, name)\n",
    "    else:\n",
    "        return tf.nn.sigmoid_cross_entropy_with_logits(labels=labels, logits=logits, name=name)"
   ]
  },
  {
   "cell_type": "code",
   "execution_count": null,
   "metadata": {
    "ExecuteTime": {
     "end_time": "2017-03-10T17:16:12.287715",
     "start_time": "2017-03-10T17:16:12.220324"
    },
    "collapsed": false
   },
   "outputs": [],
   "source": [
    "loss = tf.reduce_mean(tf_nn_sigmoid_cross_entropy_with_logits(y, y_train))\n",
    "# loss = tf.reduce_mean(tf.square(y_train - y))"
   ]
  },
  {
   "cell_type": "code",
   "execution_count": null,
   "metadata": {
    "ExecuteTime": {
     "end_time": "2017-03-10T17:16:12.760034",
     "start_time": "2017-03-10T17:16:12.308193"
    },
    "collapsed": true
   },
   "outputs": [],
   "source": [
    "# train_step = tf.train.GradientDescentOptimizer(0.5).minimize(loss)\n",
    "train_step = tf.train.AdamOptimizer(0.0005).minimize(loss)\n",
    "# train_step = tf.train.GradientDescentOptimizer(0.5).minimize(loss)"
   ]
  },
  {
   "cell_type": "code",
   "execution_count": null,
   "metadata": {
    "ExecuteTime": {
     "end_time": "2017-03-10T17:16:12.794933",
     "start_time": "2017-03-10T17:16:12.762132"
    },
    "collapsed": true
   },
   "outputs": [],
   "source": [
    "y_eval = tf.nn.sigmoid(inference(x_test))\n",
    "# y_eval = inference(x_test)"
   ]
  },
  {
   "cell_type": "code",
   "execution_count": null,
   "metadata": {
    "ExecuteTime": {
     "end_time": "2017-03-10T17:16:12.899799",
     "start_time": "2017-03-10T17:16:12.797753"
    },
    "collapsed": false
   },
   "outputs": [],
   "source": [
    "# Calculate Confusion Matrix.\n",
    "tf_cm_idxs = tf.transpose(tf_stack([\n",
    "        tf.cast(tf.round(y_eval) , tf.int64),\n",
    "        tf.cast(y_test, tf.int64)\n",
    "    ]))\n",
    "tf_cm_sparse = tf.SparseTensor(tf_cm_idxs, tf.ones_like(y_eval, dtype=tf.float32), [2, 2])\n",
    "tf_cm = tf.sparse_add(tf.zeros([2, 2], dtype=tf.float32), tf_cm_sparse)"
   ]
  },
  {
   "cell_type": "code",
   "execution_count": null,
   "metadata": {
    "ExecuteTime": {
     "end_time": "2017-03-10T17:16:12.938003",
     "start_time": "2017-03-10T17:16:12.907886"
    },
    "collapsed": true
   },
   "outputs": [],
   "source": [
    "def calc_metrices(cm):\n",
    "    tn, fn, fp, tp = np.reshape(cm, [-1])\n",
    "    acc = (tp+tn)/(tp+fp+fn+tn)\n",
    "    prc = 0.0 if tp == fp == 0 else tp/(tp+fp)\n",
    "    rec = 0.0 if tp == fn == 0 else tp/(tp+fn)\n",
    "    f = 0.0 if prc == rec == 0 else 2*prc*rec / (prc+rec)\n",
    "    return (acc, prc, rec, f)"
   ]
  },
  {
   "cell_type": "code",
   "execution_count": null,
   "metadata": {
    "ExecuteTime": {
     "end_time": "2017-03-10T17:16:12.950385",
     "start_time": "2017-03-10T17:16:12.942213"
    },
    "collapsed": true
   },
   "outputs": [],
   "source": [
    "def tf_initialize_all_variables():\n",
    "    if hasattr(tf, \"global_variables_initializer\"):\n",
    "        return tf.global_variables_initializer()\n",
    "    else:\n",
    "        return tf.initialize_all_variables()"
   ]
  },
  {
   "cell_type": "code",
   "execution_count": null,
   "metadata": {
    "ExecuteTime": {
     "end_time": "2017-03-10T17:16:12.962452",
     "start_time": "2017-03-10T17:16:12.954497"
    },
    "collapsed": false
   },
   "outputs": [],
   "source": [
    "init = tf_initialize_all_variables()"
   ]
  },
  {
   "cell_type": "markdown",
   "metadata": {},
   "source": [
    "## 学習"
   ]
  },
  {
   "cell_type": "code",
   "execution_count": null,
   "metadata": {
    "ExecuteTime": {
     "end_time": "2017-03-10T17:18:26.468116",
     "start_time": "2017-03-10T17:16:16.415837"
    },
    "collapsed": false
   },
   "outputs": [],
   "source": [
    "with tf.Session() as sess:\n",
    "    sess.run(init)\n",
    "\n",
    "    # 入力 enqueue スレッド開始\n",
    "    coord = tf.train.Coordinator()\n",
    "    threads = tf.train.start_queue_runners(sess=sess, coord=coord)\n",
    "\n",
    "    try:\n",
    "        # ミニバッチ処理ループ\n",
    "        cnt = 0\n",
    "        while not coord.should_stop() and cnt < 3000:\n",
    "            _, loss_ = sess.run([train_step, loss])\n",
    "            if cnt % 100 == 0:\n",
    "                print(\"step: %d\" % cnt)\n",
    "                print(\"\\tloss: {}\".format(loss_))\n",
    "                # y_test_, y_eval_ = sess.run([y_test, y_eval])\n",
    "                # print(np.mean(y_test_ == np.round(y_eval_)))\n",
    "                cm_ = sess.run(tf_cm)\n",
    "                acc_, prc_, rec_, f_ = calc_metrices(cm_)\n",
    "                print(\"\\tAccuracy: {}\".format(acc_))\n",
    "                print(\"\\tPrecision: {}\".format(prc_))\n",
    "                print(\"\\tRecall: {}\".format(rec_))\n",
    "                print(\"\\tF-measure: {}\".format(f_))\n",
    "            cnt += 1\n",
    "            # break\n",
    "        W1_, b1_, W2_, b2_, W3_, b3_ = sess.run([W1, b1, W2, b2, W3, b3])\n",
    "        x_test_, y_test_, y_eval_, cm_ = sess.run([x_test, y_test, y_eval, tf_cm])\n",
    "    finally:\n",
    "        coord.request_stop()\n",
    "        coord.join(threads)"
   ]
  },
  {
   "cell_type": "code",
   "execution_count": null,
   "metadata": {
    "ExecuteTime": {
     "end_time": "2017-03-10T17:19:53.644230",
     "start_time": "2017-03-10T17:19:53.638599"
    },
    "collapsed": false
   },
   "outputs": [],
   "source": [
    "loss_"
   ]
  },
  {
   "cell_type": "code",
   "execution_count": null,
   "metadata": {
    "ExecuteTime": {
     "end_time": "2017-03-10T17:19:54.769780",
     "start_time": "2017-03-10T17:19:54.763271"
    },
    "collapsed": false
   },
   "outputs": [],
   "source": [
    "cm_"
   ]
  },
  {
   "cell_type": "code",
   "execution_count": null,
   "metadata": {
    "ExecuteTime": {
     "end_time": "2017-03-10T17:19:55.829005",
     "start_time": "2017-03-10T17:19:55.824802"
    },
    "collapsed": false
   },
   "outputs": [],
   "source": [
    "calc_metrices(cm_)"
   ]
  },
  {
   "cell_type": "markdown",
   "metadata": {},
   "source": [
    "## 結果確認"
   ]
  },
  {
   "cell_type": "code",
   "execution_count": null,
   "metadata": {
    "ExecuteTime": {
     "end_time": "2017-03-10T17:20:24.640516",
     "start_time": "2017-03-10T17:20:24.632904"
    },
    "collapsed": false,
    "scrolled": true
   },
   "outputs": [],
   "source": [
    "x_test_"
   ]
  },
  {
   "cell_type": "code",
   "execution_count": null,
   "metadata": {
    "ExecuteTime": {
     "end_time": "2017-03-10T17:20:27.007193",
     "start_time": "2017-03-10T17:20:26.980322"
    },
    "collapsed": false,
    "scrolled": true
   },
   "outputs": [],
   "source": [
    "y_test_"
   ]
  },
  {
   "cell_type": "code",
   "execution_count": null,
   "metadata": {
    "ExecuteTime": {
     "end_time": "2017-03-10T17:20:42.545176",
     "start_time": "2017-03-10T17:20:42.518121"
    },
    "collapsed": false,
    "scrolled": true
   },
   "outputs": [],
   "source": [
    "# (y_eval_, np.round(y_eval_))\n",
    "np.round(y_eval_)"
   ]
  },
  {
   "cell_type": "code",
   "execution_count": null,
   "metadata": {
    "ExecuteTime": {
     "end_time": "2017-03-10T17:21:11.719313",
     "start_time": "2017-03-10T17:21:11.704728"
    },
    "collapsed": false,
    "scrolled": true
   },
   "outputs": [],
   "source": [
    "(W1_, b1_)"
   ]
  },
  {
   "cell_type": "code",
   "execution_count": null,
   "metadata": {
    "ExecuteTime": {
     "end_time": "2017-03-10T17:21:12.895021",
     "start_time": "2017-03-10T17:21:12.877685"
    },
    "collapsed": false,
    "scrolled": true
   },
   "outputs": [],
   "source": [
    "(W2_, b2_)"
   ]
  },
  {
   "cell_type": "code",
   "execution_count": null,
   "metadata": {
    "ExecuteTime": {
     "end_time": "2017-03-10T17:21:14.149476",
     "start_time": "2017-03-10T17:21:14.142577"
    },
    "collapsed": false,
    "scrolled": true
   },
   "outputs": [],
   "source": [
    "(W3_, b3_)"
   ]
  },
  {
   "cell_type": "code",
   "execution_count": null,
   "metadata": {
    "ExecuteTime": {
     "end_time": "2017-03-10T17:21:15.966046",
     "start_time": "2017-03-10T17:21:15.961533"
    },
    "collapsed": false
   },
   "outputs": [],
   "source": [
    "(W1_.shape, W2_.shape, W3_.shape)"
   ]
  },
  {
   "cell_type": "code",
   "execution_count": null,
   "metadata": {
    "ExecuteTime": {
     "end_time": "2017-03-10T17:21:20.871006",
     "start_time": "2017-03-10T17:21:20.862688"
    },
    "collapsed": false
   },
   "outputs": [],
   "source": [
    "W1_.dot(W2_.dot(W3_))"
   ]
  },
  {
   "cell_type": "markdown",
   "metadata": {},
   "source": [
    "## おまけ1：推測"
   ]
  },
  {
   "cell_type": "code",
   "execution_count": null,
   "metadata": {
    "ExecuteTime": {
     "end_time": "2017-03-10T17:24:58.823412",
     "start_time": "2017-03-10T17:24:58.820075"
    },
    "collapsed": true
   },
   "outputs": [],
   "source": [
    "def np_relu(x):\n",
    "    return np.maximum(x, 0.0)"
   ]
  },
  {
   "cell_type": "code",
   "execution_count": null,
   "metadata": {
    "ExecuteTime": {
     "end_time": "2017-03-10T17:24:59.639050",
     "start_time": "2017-03-10T17:24:59.635679"
    },
    "collapsed": true
   },
   "outputs": [],
   "source": [
    "def np_sigmoid(x):\n",
    "    return 1 / (1 + np.exp(-x))"
   ]
  },
  {
   "cell_type": "code",
   "execution_count": null,
   "metadata": {
    "ExecuteTime": {
     "end_time": "2017-03-10T17:23:43.746992",
     "start_time": "2017-03-10T17:23:43.743508"
    },
    "collapsed": true
   },
   "outputs": [],
   "source": [
    "np_denoms = np.array([denoms[k] for k in [\n",
    "    \"pv\", \"visits\", \"duration\", \"entrances\", \"bounce_rate\", \"contents_size\"]], dtype=\"float32\")"
   ]
  },
  {
   "cell_type": "code",
   "execution_count": null,
   "metadata": {
    "ExecuteTime": {
     "end_time": "2017-03-10T17:25:09.965913",
     "start_time": "2017-03-10T17:25:09.959700"
    },
    "collapsed": true
   },
   "outputs": [],
   "source": [
    "def predict(x, W1_=W1_, b1_=b1_, W2_=W2_, b2_=b2_, W3_=W3_, b3_=b3_):\n",
    "    x_ = np.reshape(x, [-1, 6]) / np_denoms\n",
    "    a1 = np.dot(x_, W1_) + b1_\n",
    "    z1 = np_relu(a1)\n",
    "    a2 = np.dot(z1, W2_) + b2_\n",
    "    z2 = np_relu(a2)\n",
    "    a3 = np.dot(z2, W3_) + b3_\n",
    "    return np_sigmoid(a3)\n"
   ]
  },
  {
   "cell_type": "code",
   "execution_count": null,
   "metadata": {
    "ExecuteTime": {
     "end_time": "2017-03-10T17:25:45.128624",
     "start_time": "2017-03-10T17:25:45.121165"
    },
    "collapsed": true
   },
   "outputs": [],
   "source": [
    "def create_x(csvline):\n",
    "    _page, pv, visits, duration, entrances, bounce_rate, _exit_rate, contents_size = (\n",
    "        csvline.split(','))\n",
    "    return np.array([\n",
    "        float(pv), float(visits), float(duration), \n",
    "        float(entrances), float(bounce_rate), float(contents_size)], dtype=\"float32\")"
   ]
  },
  {
   "cell_type": "code",
   "execution_count": null,
   "metadata": {
    "ExecuteTime": {
     "end_time": "2017-03-10T17:26:01.060498",
     "start_time": "2017-03-10T17:26:01.055582"
    },
    "collapsed": false
   },
   "outputs": [],
   "source": [
    "test_data[0]"
   ]
  },
  {
   "cell_type": "code",
   "execution_count": null,
   "metadata": {
    "ExecuteTime": {
     "end_time": "2017-03-10T17:26:15.097973",
     "start_time": "2017-03-10T17:26:15.091677"
    },
    "collapsed": false
   },
   "outputs": [],
   "source": [
    "x_test__ = create_x(test_data[0])\n",
    "x_test__"
   ]
  },
  {
   "cell_type": "code",
   "execution_count": null,
   "metadata": {
    "ExecuteTime": {
     "end_time": "2017-03-10T17:26:33.776871",
     "start_time": "2017-03-10T17:26:33.769228"
    },
    "collapsed": false
   },
   "outputs": [],
   "source": [
    "predict(x_test__)"
   ]
  },
  {
   "cell_type": "code",
   "execution_count": null,
   "metadata": {
    "ExecuteTime": {
     "end_time": "2017-03-10T17:27:04.696798",
     "start_time": "2017-03-10T17:27:04.690301"
    },
    "collapsed": false
   },
   "outputs": [],
   "source": [
    "y_predicted_ = predict(x_test_ * np_denoms)"
   ]
  },
  {
   "cell_type": "code",
   "execution_count": null,
   "metadata": {
    "ExecuteTime": {
     "end_time": "2017-03-10T17:27:05.496858",
     "start_time": "2017-03-10T17:27:05.462401"
    },
    "collapsed": false,
    "scrolled": true
   },
   "outputs": [],
   "source": [
    "y_predicted_"
   ]
  },
  {
   "cell_type": "markdown",
   "metadata": {},
   "source": [
    "## おまけ2：勾配計算を利用した重み算出"
   ]
  },
  {
   "cell_type": "code",
   "execution_count": null,
   "metadata": {
    "ExecuteTime": {
     "end_time": "2017-03-10T17:33:28.582665",
     "start_time": "2017-03-10T17:33:28.561469"
    },
    "collapsed": true
   },
   "outputs": [],
   "source": [
    "def compute_gradients(x, y=None, W1_=W1_, b1_=b1_, W2_=W2_, b2_=b2_, W3_=W3_, b3_=b3_):\n",
    "    with tf.Graph().as_default(), tf.Session() as sess:\n",
    "        W1 = tf.Variable(W1_)\n",
    "        b1 = tf.Variable(b1_)\n",
    "        W2 = tf.Variable(W2_)\n",
    "        b2 = tf.Variable(b2_)\n",
    "        W3 = tf.Variable(W3_)\n",
    "        b3 = tf.Variable(b3_)\n",
    "        x_ = (np.reshape(x, [-1, 6]) / np.array([4096., 4096., 128., 1024., 1., 4096.])).astype(\"float32\")\n",
    "        y_ = np.zeros(x_.shape[0], dtype=\"float32\") if y is None else np.reshape(y, [-1]).astype(\"float32\")\n",
    "        z3 = inference(x_, W1=W1, b1=b1, W2=W2, b2=b2, W3=W3, b3=b3)\n",
    "        loss = tf_nn_sigmoid_cross_entropy_with_logits(z3, y_)\n",
    "        grads = tf.train.GradientDescentOptimizer(0.5).compute_gradients(loss)\n",
    "        init = tf_initialize_all_variables()\n",
    "        sess.run(init)\n",
    "        return sess.run(grads)"
   ]
  },
  {
   "cell_type": "code",
   "execution_count": null,
   "metadata": {
    "ExecuteTime": {
     "end_time": "2017-03-10T17:33:38.205486",
     "start_time": "2017-03-10T17:33:37.725395"
    },
    "collapsed": false
   },
   "outputs": [],
   "source": [
    "WgW1, bgb1, WgW2, bgb2, WgW3, bgb3 = compute_gradients(x_test__)"
   ]
  },
  {
   "cell_type": "code",
   "execution_count": null,
   "metadata": {
    "ExecuteTime": {
     "end_time": "2017-03-10T17:40:01.675122",
     "start_time": "2017-03-10T17:40:01.667656"
    },
    "collapsed": false
   },
   "outputs": [],
   "source": [
    "bgb1[0]\n",
    "# ^- 2層目→1層目のbackpropの値"
   ]
  },
  {
   "cell_type": "code",
   "execution_count": null,
   "metadata": {
    "ExecuteTime": {
     "end_time": "2017-03-10T17:40:27.282252",
     "start_time": "2017-03-10T17:40:27.272115"
    },
    "collapsed": false
   },
   "outputs": [],
   "source": [
    "W1_.dot(bgb1[0])\n",
    "# ^- 1層目→入力のbackpropの値"
   ]
  },
  {
   "cell_type": "code",
   "execution_count": null,
   "metadata": {
    "ExecuteTime": {
     "end_time": "2017-03-10T17:41:01.547876",
     "start_time": "2017-03-10T17:41:01.541482"
    },
    "collapsed": false
   },
   "outputs": [],
   "source": [
    "W1_.dot(bgb1[0]) * np_denoms"
   ]
  },
  {
   "cell_type": "code",
   "execution_count": null,
   "metadata": {
    "collapsed": true
   },
   "outputs": [],
   "source": []
  }
 ],
 "metadata": {
  "kernelspec": {
   "display_name": "TensorFlow v1.0 (Python 3)",
   "language": "python",
   "name": "tensorflow100_35"
  },
  "language_info": {
   "codemirror_mode": {
    "name": "ipython",
    "version": 3
   },
   "file_extension": ".py",
   "mimetype": "text/x-python",
   "name": "python",
   "nbconvert_exporter": "python",
   "pygments_lexer": "ipython3",
   "version": "3.5.3"
  },
  "latex_envs": {
   "bibliofile": "biblio.bib",
   "cite_by": "apalike",
   "current_citInitial": 1,
   "eqLabelWithNumbers": true,
   "eqNumInitial": 0
  }
 },
 "nbformat": 4,
 "nbformat_minor": 1
}
